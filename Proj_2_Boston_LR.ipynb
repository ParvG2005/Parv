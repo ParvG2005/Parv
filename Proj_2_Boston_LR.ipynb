{
  "nbformat": 4,
  "nbformat_minor": 0,
  "metadata": {
    "colab": {
      "provenance": [],
      "authorship_tag": "ABX9TyPgHYq0q84Iei6nLT3vACsk",
      "include_colab_link": true
    },
    "kernelspec": {
      "name": "python3",
      "display_name": "Python 3"
    },
    "language_info": {
      "name": "python"
    }
  },
  "cells": [
    {
      "cell_type": "markdown",
      "metadata": {
        "id": "view-in-github",
        "colab_type": "text"
      },
      "source": [
        "<a href=\"https://colab.research.google.com/github/ParvG2005/Parv/blob/main/Proj_2_Boston_LR.ipynb\" target=\"_parent\"><img src=\"https://colab.research.google.com/assets/colab-badge.svg\" alt=\"Open In Colab\"/></a>"
      ]
    },
    {
      "cell_type": "code",
      "source": [
        "import numpy as np\n",
        "from sklearn.linear_model import LinearRegression\n",
        "from sklearn.metrics import mean_squared_error, r2_score\n",
        "from sklearn.model_selection import train_test_split\n",
        "import pandas as pd\n"
      ],
      "metadata": {
        "id": "qd8i1-pxvsmO"
      },
      "execution_count": 9,
      "outputs": []
    },
    {
      "cell_type": "code",
      "source": [
        "BosData = pd.read_csv('Boston.csv')\n",
        "X = BosData.iloc[:,0:11]\n",
        "y = BosData.iloc[:,13]\n",
        "X_train, X_test, y_train, y_test = train_test_split(X, y, test_size=0.2, random_state=5)\n",
        "reg = LinearRegression().fit(X_train, y_train)\n",
        "y_pred = reg.predict(X_test)\n",
        "rmse = np.sqrt(mean_squared_error(y_test, y_pred))\n",
        "r2 = r2_score(y_test, y_pred)\n",
        "print('Train RMSE=',rmse)\n",
        "print('Train R2=',r2)\n",
        "y_pred = reg.predict(X_train)\n",
        "rmse = np.sqrt(mean_squared_error(y_train, y_pred))\n",
        "r2 = r2_score(y_train, y_pred)\n",
        "print('Test RMSE=',rmse)\n",
        "print('Test R2=',r2)"
      ],
      "metadata": {
        "id": "NFv9BWNbwNqQ"
      },
      "execution_count": null,
      "outputs": []
    }
  ]
}